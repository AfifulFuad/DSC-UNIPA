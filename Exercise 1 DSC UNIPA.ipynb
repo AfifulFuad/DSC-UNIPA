{
 "cells": [
  {
   "cell_type": "markdown",
   "metadata": {},
   "source": [
    "var1 = [1, 2, 3, 4]\n",
    "\n",
    "1. Print tipe dari var1\n",
    "\n",
    "2. Print panjang dari var1"
   ]
  },
  {
   "cell_type": "code",
   "execution_count": null,
   "metadata": {},
   "outputs": [],
   "source": []
  },
  {
   "cell_type": "code",
   "execution_count": null,
   "metadata": {},
   "outputs": [],
   "source": []
  },
  {
   "cell_type": "markdown",
   "metadata": {},
   "source": [
    "first = [11.25, 18.0, 20.0] \n",
    "\n",
    "second = [10.75, 9.50]\n",
    "\n",
    "3. Gabungkan list first dengan second simpan dengan nama variabel full, print vraiabel full\n",
    "\n",
    "4. Urutkan full dengan descending order simpan pada variabel full_sorted, print full_sorted"
   ]
  },
  {
   "cell_type": "code",
   "execution_count": null,
   "metadata": {},
   "outputs": [],
   "source": []
  },
  {
   "cell_type": "code",
   "execution_count": null,
   "metadata": {},
   "outputs": [],
   "source": []
  },
  {
   "cell_type": "markdown",
   "metadata": {},
   "source": [
    "area = [11.25, 18.0, 20.0, 10.75, 9.50]\n",
    "\n",
    "5. Print hasilnya dengan menggunakan index() untuk mencari index dari 20.0 \n",
    "\n",
    "6. Print  hasilnya dengan menggunakan count() berapa sering 14.5 muncul di area\n",
    "\n",
    "7. Gunakan append dua kali untuk menambahkan 24.5 dan 15.45, print area\n",
    "\n",
    "8. Balik urutan area dengan reverse(), print area\n"
   ]
  },
  {
   "cell_type": "code",
   "execution_count": null,
   "metadata": {},
   "outputs": [],
   "source": []
  },
  {
   "cell_type": "code",
   "execution_count": null,
   "metadata": {},
   "outputs": [],
   "source": []
  },
  {
   "cell_type": "code",
   "execution_count": null,
   "metadata": {},
   "outputs": [],
   "source": []
  },
  {
   "cell_type": "code",
   "execution_count": null,
   "metadata": {},
   "outputs": [],
   "source": []
  },
  {
   "cell_type": "markdown",
   "metadata": {},
   "source": [
    "Masih ingat tentang lingkaran?\n",
    "$$ Keliling = 2\\pi r $$\n",
    "$$ Luas = \\pi r^2 $$\n",
    "\n",
    "- Kamu bisa mendapatkan pi dengan cara import math kemudian panggil dengan math.pi\n"
   ]
  },
  {
   "cell_type": "markdown",
   "metadata": {},
   "source": [
    "r = 0.43\n",
    "\n",
    "9. Hitung keliling simpan dalam variabel keliling\n",
    "\n",
    "10. Hitung luas simpan dalam variabel luas\n",
    "\n",
    "11. Selesaikan Print ini : print(\"Keliling: \" + ) dan print(\"Luas: \" + )"
   ]
  },
  {
   "cell_type": "code",
   "execution_count": null,
   "metadata": {},
   "outputs": [],
   "source": []
  },
  {
   "cell_type": "code",
   "execution_count": null,
   "metadata": {},
   "outputs": [],
   "source": []
  },
  {
   "cell_type": "code",
   "execution_count": null,
   "metadata": {},
   "outputs": [],
   "source": []
  },
  {
   "cell_type": "markdown",
   "metadata": {},
   "source": [
    "area_3 = [\"hallway\", 11.25, \"kitchen\", 18.0,\n",
    "        \"chill zone\", 20.0, \"bedroom\", 10.75,\n",
    "         \"bathroom\", 10.50, \"poolhouse\", 24.5,\n",
    "         \"garage\", 15.45]\n",
    "\n",
    "12. Silahkan hapus 4 elemen terakhir, print area_3"
   ]
  },
  {
   "cell_type": "code",
   "execution_count": null,
   "metadata": {},
   "outputs": [],
   "source": []
  },
  {
   "cell_type": "markdown",
   "metadata": {},
   "source": [
    "area_4 = [\"hallway\", 11.25, \"kitchen\", 18.0, \"living room\", 20.0, \"bedroom\", 10.75, \"bathroom\", 9.50]\n",
    "\n",
    "13. Ganti nilai dari \"bathroom\" menjadi 10.8, print area_4\n",
    "\n",
    "14. Ganti \"living room\" menjadi \"ruang tamu\", print area_4"
   ]
  },
  {
   "cell_type": "code",
   "execution_count": null,
   "metadata": {},
   "outputs": [],
   "source": []
  },
  {
   "cell_type": "code",
   "execution_count": null,
   "metadata": {},
   "outputs": [],
   "source": []
  }
 ],
 "metadata": {
  "kernelspec": {
   "display_name": "Python 3",
   "language": "python",
   "name": "python3"
  },
  "language_info": {
   "codemirror_mode": {
    "name": "ipython",
    "version": 3
   },
   "file_extension": ".py",
   "mimetype": "text/x-python",
   "name": "python",
   "nbconvert_exporter": "python",
   "pygments_lexer": "ipython3",
   "version": "3.8.3"
  }
 },
 "nbformat": 4,
 "nbformat_minor": 4
}
